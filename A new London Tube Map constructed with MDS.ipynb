{
 "cells": [
  {
   "cell_type": "code",
   "execution_count": 42,
   "id": "9a9a88c9",
   "metadata": {},
   "outputs": [],
   "source": [
    "import numpy as np\n",
    "import pandas as pd \n",
    "from sklearn import manifold\n",
    "import matplotlib.pyplot as plt\n",
    "import os"
   ]
  },
  {
   "cell_type": "code",
   "execution_count": 43,
   "id": "eef193a6",
   "metadata": {},
   "outputs": [
    {
     "data": {
      "text/plain": [
       "'/Users/tonykwok730/Desktop/Personal Projects'"
      ]
     },
     "execution_count": 43,
     "metadata": {},
     "output_type": "execute_result"
    }
   ],
   "source": [
    "os.getcwd()"
   ]
  },
  {
   "cell_type": "code",
   "execution_count": 44,
   "id": "7977ed47",
   "metadata": {},
   "outputs": [],
   "source": [
    "data = pd.read_csv(\"london_tube_data.csv\")"
   ]
  },
  {
   "cell_type": "code",
   "execution_count": 45,
   "id": "a5ab4189",
   "metadata": {},
   "outputs": [
    {
     "data": {
      "text/html": [
       "<div>\n",
       "<style scoped>\n",
       "    .dataframe tbody tr th:only-of-type {\n",
       "        vertical-align: middle;\n",
       "    }\n",
       "\n",
       "    .dataframe tbody tr th {\n",
       "        vertical-align: top;\n",
       "    }\n",
       "\n",
       "    .dataframe thead th {\n",
       "        text-align: right;\n",
       "    }\n",
       "</style>\n",
       "<table border=\"1\" class=\"dataframe\">\n",
       "  <thead>\n",
       "    <tr style=\"text-align: right;\">\n",
       "      <th></th>\n",
       "      <th>Heathrow Terminal 5</th>\n",
       "      <th>Hammersmith</th>\n",
       "      <th>\\nWembley Park</th>\n",
       "      <th>Kings Cross Station</th>\n",
       "      <th>Canary Wharf</th>\n",
       "      <th>Oxford Circus</th>\n",
       "      <th>Paddington</th>\n",
       "      <th>Stratford</th>\n",
       "      <th>Seven Sisters</th>\n",
       "      <th>West Croyden</th>\n",
       "    </tr>\n",
       "  </thead>\n",
       "  <tbody>\n",
       "    <tr>\n",
       "      <th>0</th>\n",
       "      <td>0.0</td>\n",
       "      <td>40.5</td>\n",
       "      <td>56.5</td>\n",
       "      <td>56.0</td>\n",
       "      <td>54.0</td>\n",
       "      <td>36.5</td>\n",
       "      <td>22.0</td>\n",
       "      <td>63.5</td>\n",
       "      <td>61.5</td>\n",
       "      <td>83.5</td>\n",
       "    </tr>\n",
       "    <tr>\n",
       "      <th>1</th>\n",
       "      <td>40.5</td>\n",
       "      <td>0.0</td>\n",
       "      <td>36.0</td>\n",
       "      <td>28.5</td>\n",
       "      <td>42.5</td>\n",
       "      <td>25.0</td>\n",
       "      <td>19.0</td>\n",
       "      <td>43.5</td>\n",
       "      <td>39.0</td>\n",
       "      <td>58.5</td>\n",
       "    </tr>\n",
       "    <tr>\n",
       "      <th>2</th>\n",
       "      <td>56.5</td>\n",
       "      <td>36.0</td>\n",
       "      <td>0.0</td>\n",
       "      <td>21.0</td>\n",
       "      <td>37.5</td>\n",
       "      <td>16.5</td>\n",
       "      <td>24.5</td>\n",
       "      <td>44.0</td>\n",
       "      <td>36.0</td>\n",
       "      <td>63.5</td>\n",
       "    </tr>\n",
       "    <tr>\n",
       "      <th>3</th>\n",
       "      <td>56.0</td>\n",
       "      <td>28.5</td>\n",
       "      <td>21.0</td>\n",
       "      <td>0.0</td>\n",
       "      <td>30.0</td>\n",
       "      <td>8.5</td>\n",
       "      <td>18.0</td>\n",
       "      <td>20.0</td>\n",
       "      <td>11.5</td>\n",
       "      <td>39.5</td>\n",
       "    </tr>\n",
       "    <tr>\n",
       "      <th>4</th>\n",
       "      <td>54.0</td>\n",
       "      <td>42.5</td>\n",
       "      <td>37.5</td>\n",
       "      <td>30.0</td>\n",
       "      <td>0.0</td>\n",
       "      <td>21.5</td>\n",
       "      <td>26.5</td>\n",
       "      <td>14.5</td>\n",
       "      <td>32.5</td>\n",
       "      <td>32.0</td>\n",
       "    </tr>\n",
       "    <tr>\n",
       "      <th>5</th>\n",
       "      <td>36.5</td>\n",
       "      <td>25.0</td>\n",
       "      <td>16.5</td>\n",
       "      <td>8.5</td>\n",
       "      <td>21.5</td>\n",
       "      <td>0.0</td>\n",
       "      <td>10.0</td>\n",
       "      <td>24.0</td>\n",
       "      <td>13.0</td>\n",
       "      <td>39.0</td>\n",
       "    </tr>\n",
       "    <tr>\n",
       "      <th>6</th>\n",
       "      <td>22.0</td>\n",
       "      <td>19.0</td>\n",
       "      <td>24.5</td>\n",
       "      <td>18.0</td>\n",
       "      <td>26.5</td>\n",
       "      <td>10.0</td>\n",
       "      <td>0.0</td>\n",
       "      <td>19.0</td>\n",
       "      <td>28.0</td>\n",
       "      <td>48.0</td>\n",
       "    </tr>\n",
       "    <tr>\n",
       "      <th>7</th>\n",
       "      <td>63.5</td>\n",
       "      <td>43.5</td>\n",
       "      <td>44.0</td>\n",
       "      <td>20.0</td>\n",
       "      <td>14.5</td>\n",
       "      <td>24.0</td>\n",
       "      <td>19.0</td>\n",
       "      <td>0.0</td>\n",
       "      <td>21.5</td>\n",
       "      <td>51.0</td>\n",
       "    </tr>\n",
       "    <tr>\n",
       "      <th>8</th>\n",
       "      <td>61.5</td>\n",
       "      <td>39.0</td>\n",
       "      <td>36.0</td>\n",
       "      <td>11.5</td>\n",
       "      <td>32.5</td>\n",
       "      <td>13.0</td>\n",
       "      <td>28.0</td>\n",
       "      <td>21.5</td>\n",
       "      <td>0.0</td>\n",
       "      <td>50.0</td>\n",
       "    </tr>\n",
       "    <tr>\n",
       "      <th>9</th>\n",
       "      <td>83.5</td>\n",
       "      <td>58.5</td>\n",
       "      <td>63.5</td>\n",
       "      <td>39.5</td>\n",
       "      <td>32.0</td>\n",
       "      <td>39.0</td>\n",
       "      <td>48.0</td>\n",
       "      <td>51.0</td>\n",
       "      <td>50.0</td>\n",
       "      <td>0.0</td>\n",
       "    </tr>\n",
       "  </tbody>\n",
       "</table>\n",
       "</div>"
      ],
      "text/plain": [
       "   Heathrow Terminal 5  Hammersmith  \\nWembley Park  Kings Cross Station  \\\n",
       "0                  0.0         40.5            56.5                 56.0   \n",
       "1                 40.5          0.0            36.0                 28.5   \n",
       "2                 56.5         36.0             0.0                 21.0   \n",
       "3                 56.0         28.5            21.0                  0.0   \n",
       "4                 54.0         42.5            37.5                 30.0   \n",
       "5                 36.5         25.0            16.5                  8.5   \n",
       "6                 22.0         19.0            24.5                 18.0   \n",
       "7                 63.5         43.5            44.0                 20.0   \n",
       "8                 61.5         39.0            36.0                 11.5   \n",
       "9                 83.5         58.5            63.5                 39.5   \n",
       "\n",
       "   Canary Wharf  Oxford Circus  Paddington  Stratford  Seven Sisters  \\\n",
       "0          54.0           36.5        22.0       63.5           61.5   \n",
       "1          42.5           25.0        19.0       43.5           39.0   \n",
       "2          37.5           16.5        24.5       44.0           36.0   \n",
       "3          30.0            8.5        18.0       20.0           11.5   \n",
       "4           0.0           21.5        26.5       14.5           32.5   \n",
       "5          21.5            0.0        10.0       24.0           13.0   \n",
       "6          26.5           10.0         0.0       19.0           28.0   \n",
       "7          14.5           24.0        19.0        0.0           21.5   \n",
       "8          32.5           13.0        28.0       21.5            0.0   \n",
       "9          32.0           39.0        48.0       51.0           50.0   \n",
       "\n",
       "   West Croyden  \n",
       "0          83.5  \n",
       "1          58.5  \n",
       "2          63.5  \n",
       "3          39.5  \n",
       "4          32.0  \n",
       "5          39.0  \n",
       "6          48.0  \n",
       "7          51.0  \n",
       "8          50.0  \n",
       "9           0.0  "
      ]
     },
     "execution_count": 45,
     "metadata": {},
     "output_type": "execute_result"
    }
   ],
   "source": [
    "data.iloc[0:10, 1:11]"
   ]
  },
  {
   "cell_type": "code",
   "execution_count": 46,
   "id": "16954a34",
   "metadata": {},
   "outputs": [],
   "source": [
    "diss_matrix = data.iloc[0:10, 1:11].to_numpy()"
   ]
  },
  {
   "cell_type": "code",
   "execution_count": 47,
   "id": "f5f57d65",
   "metadata": {},
   "outputs": [
    {
     "data": {
      "text/plain": [
       "array([[ 0. , 40.5, 56.5, 56. , 54. , 36.5, 22. , 63.5, 61.5, 83.5],\n",
       "       [40.5,  0. , 36. , 28.5, 42.5, 25. , 19. , 43.5, 39. , 58.5],\n",
       "       [56.5, 36. ,  0. , 21. , 37.5, 16.5, 24.5, 44. , 36. , 63.5],\n",
       "       [56. , 28.5, 21. ,  0. , 30. ,  8.5, 18. , 20. , 11.5, 39.5],\n",
       "       [54. , 42.5, 37.5, 30. ,  0. , 21.5, 26.5, 14.5, 32.5, 32. ],\n",
       "       [36.5, 25. , 16.5,  8.5, 21.5,  0. , 10. , 24. , 13. , 39. ],\n",
       "       [22. , 19. , 24.5, 18. , 26.5, 10. ,  0. , 19. , 28. , 48. ],\n",
       "       [63.5, 43.5, 44. , 20. , 14.5, 24. , 19. ,  0. , 21.5, 51. ],\n",
       "       [61.5, 39. , 36. , 11.5, 32.5, 13. , 28. , 21.5,  0. , 50. ],\n",
       "       [83.5, 58.5, 63.5, 39.5, 32. , 39. , 48. , 51. , 50. ,  0. ]])"
      ]
     },
     "execution_count": 47,
     "metadata": {},
     "output_type": "execute_result"
    }
   ],
   "source": [
    "diss_matrix"
   ]
  },
  {
   "cell_type": "code",
   "execution_count": 48,
   "id": "3ac7b69e",
   "metadata": {},
   "outputs": [
    {
     "data": {
      "text/plain": [
       "(10, 10)"
      ]
     },
     "execution_count": 48,
     "metadata": {},
     "output_type": "execute_result"
    }
   ],
   "source": [
    "diss_matrix.shape"
   ]
  },
  {
   "cell_type": "code",
   "execution_count": 53,
   "id": "1051be08",
   "metadata": {},
   "outputs": [
    {
     "data": {
      "image/png": "[encoded data removed]",
      "text/plain": [
       "<Figure size 432x288 with 1 Axes>"
      ]
     },
     "metadata": {
      "needs_background": "light"
     },
     "output_type": "display_data"
    }
   ],
   "source": [
    "mds = manifold.MDS(random_state = 42, dissimilarity = 'precomputed') \n",
    "embedded_coor = mds.fit_transform(diss_matrix) \n",
    "                                                                                                                                  \n",
    "stations = ['Heathrow Terminal 5', 'Hammersmith', 'Wembley Park', 'Kings Cross Station', \n",
    "            'Canary Wharf', 'Oxford Circus', 'Paddington', 'Stratford', 'Seven Sisters', 'West Croyden']\n",
    "\n",
    "plt.figure()\n",
    "plt.scatter(embedded_coor[:,0],embedded_coor[:,1])  \n",
    "labels = stations\n",
    "\n",
    "for label, x, y in zip(labels, mds_fit_transform[:,0], mds_fit_transform[:,1]):\n",
    "    plt.annotate(label, (x,y))\n",
    "\n",
    "plt.xlabel('West - East')\n",
    "plt.ylabel('North - South')\n",
    "plt.title('London Tube Map Reconstructed with metric MDS')    \n",
    "plt.show()"
   ]
  }
 ],
 "metadata": {
  "kernelspec": {
   "display_name": "Python 3",
   "language": "python",
   "name": "python3"
  },
  "language_info": {
   "codemirror_mode": {
    "name": "ipython",
    "version": 3
   },
   "file_extension": ".py",
   "mimetype": "text/x-python",
   "name": "python",
   "nbconvert_exporter": "python",
   "pygments_lexer": "ipython3",
   "version": "3.8.8"
  }
 },
 "nbformat": 4,
 "nbformat_minor": 5
}
